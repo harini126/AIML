{
 "cells": [
  {
   "cell_type": "code",
   "execution_count": 7,
   "id": "e2d777c3",
   "metadata": {},
   "outputs": [
    {
     "name": "stdout",
     "output_type": "stream",
     "text": [
      "True\n",
      "True\n"
     ]
    }
   ],
   "source": [
    "#if statement\n",
    "a=56\n",
    "if a!=100:\n",
    "    print('True')\n",
    "\n",
    "    \n",
    "#if else\n",
    "b=10\n",
    "c=-15\n",
    "if c>0:\n",
    "    print('False')\n",
    "else:\n",
    "    print('True')"
   ]
  },
  {
   "cell_type": "code",
   "execution_count": 9,
   "id": "6f675c00",
   "metadata": {},
   "outputs": [
    {
     "name": "stdout",
     "output_type": "stream",
     "text": [
      "Enter age:8\n",
      "Positive even\n"
     ]
    }
   ],
   "source": [
    "#nested if\n",
    "a=int(input('Enter :'))\n",
    "if a>0:\n",
    "    if a%2==0:\n",
    "        print('Positive even')\n",
    "    else:\n",
    "        print('Positive odd')\n",
    "elif a%2!=0:\n",
    "    print('negative odd')\n",
    "else:\n",
    "        print('negative even')"
   ]
  },
  {
   "cell_type": "code",
   "execution_count": 13,
   "id": "3e52aaa4",
   "metadata": {},
   "outputs": [
    {
     "name": "stdout",
     "output_type": "stream",
     "text": [
      "0\n",
      "1\n",
      "2\n",
      "3\n",
      "4\n",
      "5\n",
      "6\n",
      "7\n",
      "8\n",
      "9\n",
      "10\n",
      "0\n",
      "1\n",
      "2\n",
      "3\n",
      "4\n",
      "Not <5\n"
     ]
    }
   ],
   "source": [
    "#while loop\n",
    "count=0\n",
    "while count<11:\n",
    "    print(count)\n",
    "    count=count+1\n",
    "count=0    \n",
    "while count<5:\n",
    "    print(count)\n",
    "    count=count+1\n",
    "else:\n",
    "    print('Not <5')"
   ]
  },
  {
   "cell_type": "code",
   "execution_count": 23,
   "id": "46711ef5",
   "metadata": {},
   "outputs": [
    {
     "name": "stdout",
     "output_type": "stream",
     "text": [
      "read rows2\n",
      "read cols2\n",
      "read rows2\n",
      "read cols2\n",
      "read 4 elements into matrix 1\n",
      "1\n",
      "2\n",
      "3\n",
      "4\n",
      "read 4 elements into matrix 2\n",
      "1\n",
      "2\n",
      "3\n",
      "1\n",
      "Elements :\n",
      "product of matrices :\n",
      "7 4 \n",
      "15 10 \n"
     ]
    }
   ],
   "source": [
    "#nested loop\n",
    "m=int(input(\"read rows\"))\n",
    "n=int(input(\"read cols\"))\n",
    "p=int(input(\"read rows\"))\n",
    "q=int(input(\"read cols\"))\n",
    "\n",
    "print(\"read {} elements into matrix 1\".format(m*n))\n",
    "m1=[[int(input()) for j in range(n)] for i in  range(m)]\n",
    "\n",
    "\n",
    "\n",
    "print(\"read {} elements into matrix 2\".format(m*n))\n",
    "m2=[[int(input()) for j in range(q)] for i in  range(p)]\n",
    "m3=[[0 for i in range(q)] for i in range(m)]\n",
    "print(\"Elements :\")\n",
    "\n",
    "for i in range(m):\n",
    "    for j in range(q):\n",
    "        \n",
    "        for k in range(n):\n",
    "            m3[i][j]=m3[i][j]+m1[i][k]*m2[k][j]\n",
    "print(\"product of matrices :\")\n",
    "for i in range(m):\n",
    "    for j in range(q):\n",
    "         print(m3[i][j],end=' ')\n",
    "\n",
    "    print()"
   ]
  },
  {
   "cell_type": "code",
   "execution_count": 28,
   "id": "3204da95",
   "metadata": {},
   "outputs": [
    {
     "name": "stdout",
     "output_type": "stream",
     "text": [
      "p\n",
      "y\n",
      "pass block\n",
      "_______\n",
      "10\n",
      "9\n",
      "8\n",
      "7\n",
      "6\n",
      "_______\n",
      "10\n",
      "9\n",
      "8\n",
      "7\n",
      "6\n",
      "5\n",
      "4\n",
      "3\n",
      "2\n",
      "1\n",
      "_______\n"
     ]
    }
   ],
   "source": [
    "#break\n",
    "for l in \"python\":\n",
    "    if l=='t':\n",
    "        pass\n",
    "        print(\"pass block\")\n",
    "        break\n",
    "    print(l)\n",
    "print('_______')\n",
    "a=10\n",
    "while a>0:\n",
    "    print(a)\n",
    "    a=a-1\n",
    "    if a==5:\n",
    "        break\n",
    "print('_______')\n",
    "#continue\n",
    "a=10\n",
    "while a>0:\n",
    "    print(a)\n",
    "    a=a-1\n",
    "    if a==10:\n",
    "        continue\n",
    "\n",
    "        \n",
    "print('_______')\n",
    "#pass\n"
   ]
  },
  {
   "cell_type": "code",
   "execution_count": 29,
   "id": "86810a8f",
   "metadata": {},
   "outputs": [
    {
     "name": "stdout",
     "output_type": "stream",
     "text": [
      "ENter:sas\n",
      "Palindrome\n"
     ]
    }
   ],
   "source": [
    "a=input('ENter:')\n",
    "b=a[::-1]\n",
    "if(a==b):\n",
    "    print('Palindrome')\n",
    "else:\n",
    "    print(\"not\")"
   ]
  },
  {
   "cell_type": "code",
   "execution_count": 1,
   "id": "cc544ae8",
   "metadata": {},
   "outputs": [
    {
     "name": "stdout",
     "output_type": "stream",
     "text": [
      "1\n",
      "2\n",
      "3\n",
      "4\n",
      "5\n",
      "6\n",
      "7\n",
      "8\n",
      "9\n",
      "11\n",
      "22\n",
      "33\n",
      "44\n",
      "55\n",
      "66\n",
      "77\n",
      "88\n",
      "99\n"
     ]
    }
   ],
   "source": [
    "for i in range(1,101):\n",
    "    str2=str(i)\n",
    "    if(str2==str2[::-1]):\n",
    "        print(i)"
   ]
  },
  {
   "cell_type": "code",
   "execution_count": 5,
   "id": "bbac8e01",
   "metadata": {},
   "outputs": [
    {
     "name": "stdout",
     "output_type": "stream",
     "text": [
      "Enter marks58\n",
      "Enter marks65\n",
      "Enter marks89\n",
      "70.66666666666667\n",
      "A\n"
     ]
    }
   ],
   "source": [
    "m1=int(input('Enter marks'))\n",
    "m2=int(input('Enter marks'))\n",
    "m3=int(input('Enter marks'))\n",
    "m=(m1+m2+m3)/300\n",
    "s=m*100\n",
    "print(s)\n",
    "if s>=90:\n",
    "    print('Outstanding')\n",
    "elif s>=80 and s<90:\n",
    "    print('A+')\n",
    "elif s>=70 and s<80:\n",
    "    print('A')\n",
    "elif s>=60 and s<70:\n",
    "    print('B')\n",
    "elif s<60:\n",
    "    print('C')"
   ]
  },
  {
   "cell_type": "code",
   "execution_count": 53,
   "id": "0580d8e8",
   "metadata": {},
   "outputs": [
    {
     "name": "stdout",
     "output_type": "stream",
     "text": [
      "hello, harini\tGood mrng\n"
     ]
    }
   ],
   "source": [
    "def greet(name):\n",
    "    '''this fun greets a person'''\n",
    "    print(\"hello, \"+name+\"\\tGood mrng\")\n",
    "greet(\"harini\")"
   ]
  },
  {
   "cell_type": "code",
   "execution_count": 57,
   "id": "bfc35168",
   "metadata": {},
   "outputs": [
    {
     "data": {
      "text/plain": [
       "12"
      ]
     },
     "execution_count": 57,
     "metadata": {},
     "output_type": "execute_result"
    }
   ],
   "source": [
    "#default\n",
    "def A(a,b=1,c=2):\n",
    "    return a+b+c\n",
    "A(3)\n",
    "A(4,4,4)\n"
   ]
  },
  {
   "cell_type": "code",
   "execution_count": 58,
   "id": "3262eb67",
   "metadata": {},
   "outputs": [
    {
     "name": "stdout",
     "output_type": "stream",
     "text": [
      "7\n",
      "6\n"
     ]
    }
   ],
   "source": [
    "#keyword\n",
    "def A(a,b=1,c=2):\n",
    "    return a+b+c\n",
    "print(A(a=2,b=3))\n",
    "print(A(c=3,b=2,a=1))"
   ]
  },
  {
   "cell_type": "code",
   "execution_count": 59,
   "id": "a75dd69a",
   "metadata": {},
   "outputs": [
    {
     "data": {
      "text/plain": [
       "60"
      ]
     },
     "execution_count": 59,
     "metadata": {},
     "output_type": "execute_result"
    }
   ],
   "source": [
    "#positional\n",
    "def add(a,b,c):\n",
    "    return a+b+c\n",
    "print(add(10,20,30))\n"
   ]
  },
  {
   "cell_type": "code",
   "execution_count": 68,
   "id": "09aaa3ca",
   "metadata": {},
   "outputs": [
    {
     "name": "stdout",
     "output_type": "stream",
     "text": [
      "10\n",
      "{'a': 10, 'b': 20, 'c': 15}\n"
     ]
    }
   ],
   "source": [
    "def key(**kwargs):\n",
    "    return kwargs\n",
    "d=key(a=10,b=20,c=15)\n",
    "print(d['a'])\n",
    "print(d)"
   ]
  },
  {
   "cell_type": "code",
   "execution_count": 69,
   "id": "86126249",
   "metadata": {},
   "outputs": [
    {
     "name": "stdout",
     "output_type": "stream",
     "text": [
      "(5, 11, 22, 10)\n",
      "48\n"
     ]
    }
   ],
   "source": [
    "def add(*n):\n",
    "    print(n)\n",
    "    print(sum(n))\n",
    "add(5,11,22,10)"
   ]
  },
  {
   "cell_type": "code",
   "execution_count": 75,
   "id": "2683d053",
   "metadata": {},
   "outputs": [
    {
     "name": "stdout",
     "output_type": "stream",
     "text": [
      "HI HARINI\n",
      "hi harini\n"
     ]
    }
   ],
   "source": [
    "#higher order \n",
    "def s(text):\n",
    "    return text.upper()\n",
    "def w(text):\n",
    "    return text.lower()\n",
    "def ex(func):\n",
    "    greet=func(\"Hi HAriNi\")\n",
    "    print(greet)\n",
    "ex(s)\n",
    "ex(w)"
   ]
  },
  {
   "cell_type": "code",
   "execution_count": 79,
   "id": "571d6e9c",
   "metadata": {},
   "outputs": [
    {
     "name": "stdout",
     "output_type": "stream",
     "text": [
      "5\n",
      "5\n",
      "5\n"
     ]
    }
   ],
   "source": [
    "#lambda\n",
    "def incr(x):\n",
    "    x=x+1\n",
    "    return x\n",
    "print(incr(4))\n",
    "\n",
    "print((lambda x:x+1)(4))\n",
    "res=lambda x:x+1\n",
    "print(res(4))"
   ]
  },
  {
   "cell_type": "code",
   "execution_count": 80,
   "id": "8a2a57ab",
   "metadata": {},
   "outputs": [
    {
     "name": "stdout",
     "output_type": "stream",
     "text": [
      "4\n",
      "5\n",
      "5\n"
     ]
    }
   ],
   "source": [
    "print((lambda x,y:x**y) (2,2))\n",
    "print((lambda x,y:x+y) (2,3))\n",
    "res=lambda x,y:x+y\n",
    "print(res(2,3))"
   ]
  },
  {
   "cell_type": "code",
   "execution_count": 82,
   "id": "e208a6a4",
   "metadata": {},
   "outputs": [],
   "source": [
    "l=[1,2,3,4,5]\n",
    "#res=lambda x:x+2\n",
    "#print(res(l))"
   ]
  },
  {
   "cell_type": "code",
   "execution_count": 84,
   "id": "4932406f",
   "metadata": {},
   "outputs": [
    {
     "name": "stdout",
     "output_type": "stream",
     "text": [
      "[3, 4, 5, 6, 7]\n",
      "[3, 4, 5, 6, 7]\n",
      "[3, 4, 5, 6, 7]\n"
     ]
    }
   ],
   "source": [
    "def i(num):\n",
    "    return num+2\n",
    "res=list(map(i,l))\n",
    "print(res)\n",
    "res1=list(map(lambda x:x+2,l))\n",
    "print(res)\n",
    "print(list(map(lambda x:x+2,l)))"
   ]
  },
  {
   "cell_type": "code",
   "execution_count": 87,
   "id": "b8fc0c4b",
   "metadata": {},
   "outputs": [
    {
     "name": "stdout",
     "output_type": "stream",
     "text": [
      "Enter5\n"
     ]
    },
    {
     "data": {
      "text/plain": [
       "'odd'"
      ]
     },
     "execution_count": 87,
     "metadata": {},
     "output_type": "execute_result"
    }
   ],
   "source": [
    "def eor(num):\n",
    "    if num%2==0:\n",
    "        return \"even\"\n",
    "    else:\n",
    "        return \"odd\"\n",
    "a=int(input('Enter'))\n",
    "eor(a)"
   ]
  },
  {
   "cell_type": "code",
   "execution_count": 88,
   "id": "77edd55c",
   "metadata": {},
   "outputs": [
    {
     "data": {
      "text/plain": [
       "['odd', 'even', 'odd', 'even', 'odd', 'even', 'odd', 'even', 'odd', 'even']"
      ]
     },
     "execution_count": 88,
     "metadata": {},
     "output_type": "execute_result"
    }
   ],
   "source": [
    "l=[1,2,3,4,5,6,7,8,9,0]\n",
    "list(map(eor,l))"
   ]
  },
  {
   "cell_type": "code",
   "execution_count": 91,
   "id": "0f73d128",
   "metadata": {},
   "outputs": [
    {
     "name": "stdout",
     "output_type": "stream",
     "text": [
      "['Apple', 'Banana', 'Grapes']\n",
      "['APPLE', 'BANANA', 'GRAPES']\n"
     ]
    }
   ],
   "source": [
    "l=['apple','banana','grapes']\n",
    "res1=list(map(lambda x:x.capitalize(),l))\n",
    "print(res1)\n",
    "res1=list(map(lambda x:x.upper(),l))\n",
    "print(res1)"
   ]
  },
  {
   "cell_type": "code",
   "execution_count": 94,
   "id": "3e3cf63d",
   "metadata": {},
   "outputs": [
    {
     "name": "stdout",
     "output_type": "stream",
     "text": [
      "[23, 45, 67]\n"
     ]
    }
   ],
   "source": [
    "#filter\n",
    "def odd(n):\n",
    "    if n%2!=0:\n",
    "        return n\n",
    "l=[23,45,14,67]\n",
    "print(list(filter(odd,l)))"
   ]
  },
  {
   "cell_type": "code",
   "execution_count": 97,
   "id": "6ca3e9a2",
   "metadata": {},
   "outputs": [
    {
     "ename": "NameError",
     "evalue": "name 'path' is not defined",
     "output_type": "error",
     "traceback": [
      "\u001b[1;31m---------------------------------------------------------------------------\u001b[0m",
      "\u001b[1;31mNameError\u001b[0m                                 Traceback (most recent call last)",
      "Input \u001b[1;32mIn [97]\u001b[0m, in \u001b[0;36m<cell line: 7>\u001b[1;34m()\u001b[0m\n\u001b[0;32m      5\u001b[0m os\u001b[38;5;241m.\u001b[39mgetcwd()\n\u001b[0;32m      6\u001b[0m os\u001b[38;5;241m.\u001b[39mlistdir()\n\u001b[1;32m----> 7\u001b[0m \u001b[43mpath\u001b[49m(\u001b[38;5;124m\"\u001b[39m\u001b[38;5;124mhi\u001b[39m\u001b[38;5;124m\"\u001b[39m)\n",
      "\u001b[1;31mNameError\u001b[0m: name 'path' is not defined"
     ]
    }
   ],
   "source": [
    "#modules\n",
    "import os\n",
    "os.mkdir(\"hi\")\n",
    "os.chdir(\"hi\")\n",
    "os.getcwd()\n",
    "os.listdir()\n",
    "#os.rmdir(\"/content/hi\")"
   ]
  },
  {
   "cell_type": "code",
   "execution_count": 104,
   "id": "a0abc0b5",
   "metadata": {},
   "outputs": [
    {
     "name": "stdout",
     "output_type": "stream",
     "text": [
      "3.141592653589793\n",
      "2.718281828459045\n",
      "4.0\n",
      "6\n",
      "4.0\n",
      "1\n",
      "-0.9880316240928618\n",
      "2.302585092994046\n"
     ]
    }
   ],
   "source": [
    "import math as m\n",
    "print(m.pi)\n",
    "print(m.e)\n",
    "print(m.sqrt(16))\n",
    "print(m.factorial(3))\n",
    "print(m.pow(2,2))\n",
    "print(m.floor(1.76))\n",
    "print(m.sin(30))\n",
    "print(m.log(10))"
   ]
  },
  {
   "cell_type": "code",
   "execution_count": 105,
   "id": "c0911ebb",
   "metadata": {},
   "outputs": [
    {
     "name": "stdout",
     "output_type": "stream",
     "text": [
      "['C:\\\\Users\\\\anenk\\\\Desktop\\\\pythonfolder', 'C:\\\\ProgramData\\\\Anaconda3\\\\python39.zip', 'C:\\\\ProgramData\\\\Anaconda3\\\\DLLs', 'C:\\\\ProgramData\\\\Anaconda3\\\\lib', 'C:\\\\ProgramData\\\\Anaconda3', '', 'C:\\\\ProgramData\\\\Anaconda3\\\\lib\\\\site-packages', 'C:\\\\ProgramData\\\\Anaconda3\\\\lib\\\\site-packages\\\\win32', 'C:\\\\ProgramData\\\\Anaconda3\\\\lib\\\\site-packages\\\\win32\\\\lib', 'C:\\\\ProgramData\\\\Anaconda3\\\\lib\\\\site-packages\\\\Pythonwin']\n",
      "3.9.12 (main, Apr  4 2022, 05:22:27) [MSC v.1916 64 bit (AMD64)]\n",
      "9223372036854775807\n"
     ]
    }
   ],
   "source": [
    "import sys\n",
    "print(sys.path)\n",
    "print(sys.version)\n",
    "print(sys.maxsize)"
   ]
  },
  {
   "cell_type": "code",
   "execution_count": 109,
   "id": "e828428b",
   "metadata": {},
   "outputs": [
    {
     "name": "stdout",
     "output_type": "stream",
     "text": [
      "2\n",
      "2.5\n",
      "2\n"
     ]
    }
   ],
   "source": [
    "import statistics as s\n",
    "print(s.mean([1,2,3]))\n",
    "print(s.median([1,2,3,4]))\n",
    "print(s.mode([1,7,2,2,3,2,3]))"
   ]
  },
  {
   "cell_type": "code",
   "execution_count": 113,
   "id": "1c2cf15a",
   "metadata": {},
   "outputs": [
    {
     "name": "stdout",
     "output_type": "stream",
     "text": [
      "1655201711.1165571\n",
      "time.struct_time(tm_year=2022, tm_mon=6, tm_mday=14, tm_hour=15, tm_min=45, tm_sec=11, tm_wday=1, tm_yday=165, tm_isdst=0)\n",
      "Tue Jun 14 15:45:11 2022\n"
     ]
    }
   ],
   "source": [
    "import time\n",
    "print(time.time())\n",
    "print(time.localtime())\n",
    "print(time.asctime())\n"
   ]
  },
  {
   "cell_type": "code",
   "execution_count": 119,
   "id": "d08f1c2d",
   "metadata": {},
   "outputs": [
    {
     "name": "stdout",
     "output_type": "stream",
     "text": [
      "12\n",
      "54\n",
      "0.9873571582308428\n"
     ]
    }
   ],
   "source": [
    "import random\n",
    "print(random.randrange(1,50))\n",
    "print(random.randint(1,100))\n",
    "print(random.random())"
   ]
  },
  {
   "cell_type": "code",
   "execution_count": 124,
   "id": "e4951172",
   "metadata": {},
   "outputs": [
    {
     "name": "stdout",
     "output_type": "stream",
     "text": [
      "predict3\n",
      "Won\n"
     ]
    }
   ],
   "source": [
    "import random\n",
    "g=random.randint(0,5)\n",
    "g1=int(input('predict'))\n",
    "if g1==g:\n",
    "    print('Won')\n",
    "else:\n",
    "    print(g)\n",
    "    print('Lost')"
   ]
  },
  {
   "cell_type": "code",
   "execution_count": 6,
   "id": "45fa071c",
   "metadata": {},
   "outputs": [
    {
     "name": "stdout",
     "output_type": "stream",
     "text": [
      "dELHI\n",
      "tELANGANA\n",
      "gOA\n",
      "ap\n",
      "kERALA\n",
      "['D', 'i', 'T', 'a', 'G', 'a', 'A', 'P', 'K', 'a']\n",
      "DiTaGaAPKa\n",
      "dItAgAapkA\n"
     ]
    }
   ],
   "source": [
    "s=['Delhi','Telangana','Goa','AP','Kerala']\n",
    "l=[]\n",
    "a=[]\n",
    "for i in s:\n",
    "    l=i.swapcase()\n",
    "    print(l)\n",
    "for i in s:\n",
    "    a.append(i[0])\n",
    "    a.append(i[len(i)-1])\n",
    "print(a)\n",
    "str=\"\".join(a)\n",
    "print(str)\n",
    "str=str.swapcase()\n",
    "print(str)\n"
   ]
  },
  {
   "cell_type": "code",
   "execution_count": 7,
   "id": "f90483d0",
   "metadata": {},
   "outputs": [
    {
     "name": "stdout",
     "output_type": "stream",
     "text": [
      "dItAgAapkA"
     ]
    }
   ],
   "source": [
    "s=['Delhi','Telangana','Goa','AP','Kerala']\n",
    "l=[]\n",
    "for i in s:\n",
    "    print(i[0::-1].swapcase() ,end='')\n",
    "    print(i[-1::].swapcase() ,end='')"
   ]
  },
  {
   "cell_type": "code",
   "execution_count": 8,
   "id": "7e0267e3",
   "metadata": {},
   "outputs": [
    {
     "name": "stdout",
     "output_type": "stream",
     "text": [
      "[1, 2, 6, 7, 8, 11]\n"
     ]
    }
   ],
   "source": [
    "l=[1,2,5,6,7,10,15,20,8,50,11]\n",
    "a=[]\n",
    "for i in l:\n",
    "    if i%5!=0:\n",
    "        a.append(i)\n",
    "print(a) "
   ]
  },
  {
   "cell_type": "code",
   "execution_count": 9,
   "id": "c6ab8557",
   "metadata": {},
   "outputs": [
    {
     "name": "stdout",
     "output_type": "stream",
     "text": [
      "[1, 2, 6, 7, 4, 8, 11]\n"
     ]
    }
   ],
   "source": [
    "l=[1,2,5,6,7,15,10,20,4,25,8,50,11,55]\n",
    "#res1=list(map(lambda x:x%5!=0,l))\n",
    "for i in l[:]:\n",
    "    if i%5==0:\n",
    "        l.remove(i)\n",
    "print(l) "
   ]
  },
  {
   "cell_type": "code",
   "execution_count": 10,
   "id": "6562b021",
   "metadata": {},
   "outputs": [
    {
     "name": "stdout",
     "output_type": "stream",
     "text": [
      "[1, 2, 6, 7, 8, 11]\n"
     ]
    }
   ],
   "source": [
    "l=[1,2,5,6,7,15,10,20,25,8,65,50,11,55]\n",
    "res1=list(filter(lambda x:x%5!=0,l))\n",
    "print(res1)"
   ]
  },
  {
   "cell_type": "code",
   "execution_count": 11,
   "id": "84a5387a",
   "metadata": {},
   "outputs": [
    {
     "name": "stdout",
     "output_type": "stream",
     "text": [
      "['Apple', 'Avacado']\n"
     ]
    }
   ],
   "source": [
    "l=['Apple','Banana','Grapes','Orange','Avacado']\n",
    "res1=list(filter(lambda x:x[0]=='A',l))\n",
    "print(res1)"
   ]
  },
  {
   "cell_type": "code",
   "execution_count": 12,
   "id": "e33a7bed",
   "metadata": {},
   "outputs": [
    {
     "name": "stdout",
     "output_type": "stream",
     "text": [
      "4 4\n",
      "64\n"
     ]
    }
   ],
   "source": [
    "m=\"Welcome to gradsteller bootcamp\"\n",
    "x=m.count('o')\n",
    "y=m.count('e')\n",
    "print(x,y)\n",
    "print((x+y)**2)"
   ]
  },
  {
   "cell_type": "code",
   "execution_count": 13,
   "id": "52826ac5",
   "metadata": {},
   "outputs": [
    {
     "name": "stdout",
     "output_type": "stream",
     "text": [
      "['apple', 'orange', 'umbrella']\n"
     ]
    }
   ],
   "source": [
    "l=['apple','orange','ball','bat','umbrella','grapes']\n",
    "x=['a','e','o','u','i']\n",
    "res1=list(filter(lambda x:x[0] in 'aeiou',l))\n",
    "print(res1)"
   ]
  },
  {
   "cell_type": "code",
   "execution_count": 14,
   "id": "5ac448f2",
   "metadata": {},
   "outputs": [
    {
     "name": "stdout",
     "output_type": "stream",
     "text": [
      "{32, 45, 78, 19, 20, 56}\n"
     ]
    }
   ],
   "source": [
    "l=[56,78,32,45,45,45,19,20]\n",
    "l=set(l)\n",
    "l1=set(l)\n",
    "print(l|l1)\n",
    "#res1=list(filter(lambda x:x.count(i),l))"
   ]
  },
  {
   "cell_type": "code",
   "execution_count": null,
   "id": "061bd3eb",
   "metadata": {},
   "outputs": [],
   "source": []
  }
 ],
 "metadata": {
  "kernelspec": {
   "display_name": "Python 3 (ipykernel)",
   "language": "python",
   "name": "python3"
  },
  "language_info": {
   "codemirror_mode": {
    "name": "ipython",
    "version": 3
   },
   "file_extension": ".py",
   "mimetype": "text/x-python",
   "name": "python",
   "nbconvert_exporter": "python",
   "pygments_lexer": "ipython3",
   "version": "3.9.12"
  }
 },
 "nbformat": 4,
 "nbformat_minor": 5
}
