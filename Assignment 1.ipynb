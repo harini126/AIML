{
 "cells": [
  {
   "cell_type": "code",
   "execution_count": 3,
   "id": "91f3dbb2",
   "metadata": {},
   "outputs": [
    {
     "name": "stdout",
     "output_type": "stream",
     "text": [
      "Harinianenka\n",
      "arinianenka\n",
      "Har\n",
      "arin\n",
      "aiinn\n",
      "aknenainiraH\n",
      "___\n",
      "hARINI aNENKA\n",
      "Harini Anenka\n",
      "Harini anenka\n",
      "HARINI ANENKA\n",
      "harini anenka\n",
      "Harini Anenka\n",
      "Harini Anenka\n",
      "Harini Anenka\n"
     ]
    }
   ],
   "source": [
    "# 1 : String methods with example\n",
    "\n",
    "str=\"Harinianenka\"\n",
    "print(str[ : ])\n",
    "print(str[1:])\n",
    "print(str[:3])\n",
    "print(str[1:5])\n",
    "print(str[1:10:2]) #alternate\n",
    "print(str[::-1])\n",
    "\n",
    "#string methods\n",
    "s=\"Harini Anenka\"\n",
    "print('___')\n",
    "print(s.swapcase())\n",
    "print(s.title())\n",
    "print(s.capitalize())\n",
    "print(s.upper())\n",
    "print(s.lower())\n",
    "print(s.strip())\n",
    "print(s.lstrip())\n",
    "print(s.rstrip())"
   ]
  },
  {
   "cell_type": "code",
   "execution_count": 16,
   "id": "79cc18d0",
   "metadata": {},
   "outputs": [
    {
     "name": "stdout",
     "output_type": "stream",
     "text": [
      "2\n",
      "[2]\n",
      "['b', [1, 2, 3], 'c', 'd']\n",
      "[1, 'hello', 3.2, 5]\n",
      "[1, 'hello', 3.2, 5, 6, 7, 8]\n",
      "[1, 'hello', 10.2, 3.2, 5, 6, 7, 8]\n",
      "1\n",
      "8\n",
      "[8, 7, 6, 5, 3.2, 10.2, 'hello', 1]\n",
      "[8, 7, 6, 5, 3.2, 10.2, 'hello']\n",
      "['b', [1, 2, 3], 'c']\n",
      "list elements: [8, 7, 6, 5, 3.2, 10.2, 'hello']\n"
     ]
    }
   ],
   "source": [
    "# 2 :  list methods with example\n",
    "\n",
    "l=[1,2,3,4]\n",
    "l1=[1,\"hello\",3.2]\n",
    "l2=['a','b',[1,2,3],'c','d']\n",
    "\n",
    "#nested list\n",
    "print(l[1])\n",
    "print(l2[2][1:2])\n",
    "\n",
    "#deleting \n",
    "del l2[0:1]\n",
    "print(l2)\n",
    "\n",
    "#append\n",
    "l1.append(5)\n",
    "print(l1)\n",
    "\n",
    "#extend\n",
    "l1.extend([6,7,8])\n",
    "print(l1)\n",
    "\n",
    "#insert\n",
    "l1.insert(2,10.2)\n",
    "print(l1)\n",
    "\n",
    "print(l1.count(1))\n",
    "print(len(l1))\n",
    "print(l1[::-1])\n",
    "l1.reverse()\n",
    "\n",
    "l1.remove(1)\n",
    "print(l1)\n",
    "\n",
    "\n",
    "l2.pop()\n",
    "print(l2)\n",
    "\n",
    "l.clear()\n",
    "print(\"list elements:\",l1)\n"
   ]
  },
  {
   "cell_type": "code",
   "execution_count": 19,
   "id": "e8a4cec7",
   "metadata": {},
   "outputs": [
    {
     "name": "stdout",
     "output_type": "stream",
     "text": [
      "1\n",
      "1\n",
      "13\n",
      "4\n",
      "6 5\n"
     ]
    }
   ],
   "source": [
    "# 3: tuple methods with exaample\n",
    "t=(1,2,3,('hi','bye'),5,6.2)\n",
    "t1=(4,7,13,9,10)\n",
    "print(t.count(1))\n",
    "print(t.index(2))\n",
    "print(max(t1))\n",
    "print(min(t1))\n",
    "print(len(t),len(t1))"
   ]
  },
  {
   "cell_type": "code",
   "execution_count": 20,
   "id": "da99fc41",
   "metadata": {},
   "outputs": [
    {
     "name": "stdout",
     "output_type": "stream",
     "text": [
      "harini\n",
      "dict_keys(['name', 'age', 'branch'])\n",
      "dict_values(['harini', 18, 'cse'])\n",
      "harini\n"
     ]
    }
   ],
   "source": [
    "# 4 : dictionary methods with example\n",
    "d={'name':'harini', 'age':18, 'branch':'cse'}\n",
    "print(d['name'])\n",
    "print(d.keys())\n",
    "print(d.values())\n",
    "print(d.get('name'))\n"
   ]
  },
  {
   "cell_type": "code",
   "execution_count": 29,
   "id": "d4d41346",
   "metadata": {},
   "outputs": [
    {
     "name": "stdout",
     "output_type": "stream",
     "text": [
      "set[[1, 3, 5, 7]]\n",
      "{1, 2, 3}\n",
      "{1, 2, 4, 5, 6, 'hi'}\n",
      "{1, 2, 5, 6, 'hi'}\n",
      "{0, 1, 2, 3, 7, 8, 9}\n",
      "{0, 2, 4, 5, 6, 7, 8, 13, 15, 20}\n",
      "{0, 2, 4, 5, 6, 7, 8, 13, 15, 20}\n",
      "{0, 2, 4, 5, 6, 7, 8, 13, 15, 20}\n",
      "{8, 2}\n",
      "{8, 2}\n",
      "{8, 2}\n",
      "{13, 4, 5, 6}\n",
      "{13, 4, 5, 6}\n",
      "{0, 20, 15, 7}\n",
      "{0, 20, 15, 7}\n"
     ]
    }
   ],
   "source": [
    "# 5 : set methods with example\n",
    "s={1,3}\n",
    "s1={1,2,3,4,('hi'),5,6}\n",
    "s2=()\n",
    "l=[1,3,5,7]\n",
    "\n",
    "s2=set[l]\n",
    "print(s2)\n",
    "\n",
    "s.add(2)\n",
    "print(s)\n",
    "\n",
    "s1.discard(3)\n",
    "print(s1)\n",
    "\n",
    "s1.remove(4)\n",
    "print(s1)\n",
    "\n",
    "s.update([7,8,9,0])\n",
    "print(s)\n",
    "\n",
    "a={4,6,2,13,5,8}\n",
    "b={7,15,8,2,2,0,20}\n",
    "\n",
    "#union\n",
    "print(a|b)\n",
    "print(a.union(b))\n",
    "print(b.union(a))\n",
    "\n",
    "#intersection\n",
    "print(a&b)\n",
    "print(a.intersection(b))\n",
    "print(b.intersection(a))\n",
    "\n",
    "#difference\n",
    "print(a-b)\n",
    "print(a.difference(b))\n",
    "print(b-a)\n",
    "print(b.difference(a))\n"
   ]
  },
  {
   "cell_type": "code",
   "execution_count": 31,
   "id": "b5660493",
   "metadata": {},
   "outputs": [
    {
     "name": "stdout",
     "output_type": "stream",
     "text": [
      "0b10111\n",
      "0o27\n",
      "0x17\n"
     ]
    }
   ],
   "source": [
    "# 6 : Decimal to binary,octal,hexa deciaml\n",
    "a=23\n",
    "print(bin(a))\n",
    "print(oct(a))\n",
    "print(hex(a))"
   ]
  },
  {
   "cell_type": "code",
   "execution_count": 32,
   "id": "b406df83",
   "metadata": {},
   "outputs": [
    {
     "name": "stdout",
     "output_type": "stream",
     "text": [
      "48\n",
      "24\n",
      "432\n",
      "3.0\n",
      "3\n",
      "0\n",
      "4738381338321616896\n"
     ]
    }
   ],
   "source": [
    "# 7 : Arithmetic operators\n",
    "a=36\n",
    "b=12\n",
    "print(a+b)\n",
    "print(a-b)\n",
    "print(a*b)\n",
    "print(a/b)\n",
    "print(a//b)\n",
    "print(a%b)\n",
    "print(a**b)"
   ]
  },
  {
   "cell_type": "code",
   "execution_count": 34,
   "id": "05cee282",
   "metadata": {},
   "outputs": [
    {
     "name": "stdout",
     "output_type": "stream",
     "text": [
      "18\n",
      "30\n",
      "18\n",
      "216\n",
      "18.0\n",
      "6.0\n",
      "2176782336.0\n"
     ]
    }
   ],
   "source": [
    "# 8 : Assignmnet operators\n",
    "a=12\n",
    "b=6\n",
    "c=a+b\n",
    "print(c)\n",
    "c+=a\n",
    "print(c)\n",
    "c-=a\n",
    "print(c)\n",
    "c*=a\n",
    "print(c)\n",
    "c/=a\n",
    "print(c)\n",
    "c%=a\n",
    "print(c)\n",
    "c**=a\n",
    "print(c)"
   ]
  },
  {
   "cell_type": "code",
   "execution_count": 36,
   "id": "d4fea74e",
   "metadata": {},
   "outputs": [
    {
     "name": "stdout",
     "output_type": "stream",
     "text": [
      "False\n",
      "True\n",
      "True\n",
      "False\n",
      "True\n",
      "False\n"
     ]
    }
   ],
   "source": [
    "# 9 : comparision opeartors\n",
    "a=13\n",
    "b=6\n",
    "print(a==b)\n",
    "print(a!=b)\n",
    "print(a>b)\n",
    "print(a<b)\n",
    "print(a>=b)\n",
    "print(a<=b)"
   ]
  },
  {
   "cell_type": "code",
   "execution_count": 40,
   "id": "5f481b42",
   "metadata": {},
   "outputs": [
    {
     "name": "stdout",
     "output_type": "stream",
     "text": [
      "x and y is 0\n",
      "x or y is 1\n",
      "x not is False\n",
      "b and a is False\n",
      "a or b is True\n",
      "b not is False\n"
     ]
    }
   ],
   "source": [
    "# 10 : Logical operators\n",
    "x=1\n",
    "y=0\n",
    "b=True\n",
    "a=False\n",
    "print(\"x and y is\",x and y)\n",
    "print(\"x or y is\",x or y)\n",
    "print(\"x not is\",not x)\n"
   ]
  },
  {
   "cell_type": "code",
   "execution_count": 42,
   "id": "fca2a76c",
   "metadata": {},
   "outputs": [
    {
     "name": "stdout",
     "output_type": "stream",
     "text": [
      "8\n",
      "3\n",
      "11\n",
      "-12\n",
      "2\n",
      "176\n"
     ]
    }
   ],
   "source": [
    "# 11 : bitwise operators.    \n",
    "\n",
    "a=11 #1011\n",
    "b=8  #1000\n",
    "print(a&b)#AND\n",
    "print(a^b)#XOR\n",
    "print(a|b)#OR\n",
    "print(~a)\n",
    "print(a>>2)#right shift\n",
    "print(a<<4)#left shift"
   ]
  },
  {
   "cell_type": "code",
   "execution_count": 43,
   "id": "3f373442",
   "metadata": {},
   "outputs": [
    {
     "name": "stdout",
     "output_type": "stream",
     "text": [
      "True\n",
      "False\n",
      "False\n",
      "{'name': 'harini'}\n"
     ]
    }
   ],
   "source": [
    "# 12 : Memebership oparators\n",
    "\n",
    "x1={\"name\" : \"harini\"}\n",
    "y={1:'a'}\n",
    "print('name' in x1)\n",
    "print(1 not in y)\n",
    "print('a' in y)\n",
    "print(x1)"
   ]
  },
  {
   "cell_type": "code",
   "execution_count": 48,
   "id": "7a3253e5",
   "metadata": {},
   "outputs": [
    {
     "name": "stdout",
     "output_type": "stream",
     "text": [
      "True\n",
      "True\n",
      "False\n",
      "True\n"
     ]
    }
   ],
   "source": [
    "# 13 : identity operators\n",
    "\n",
    "x1=5\n",
    "y1=5\n",
    "x2=\"Hello\"\n",
    "y2=\"World\"\n",
    "x3=[1,2,3]\n",
    "y3=[1,2,3]\n",
    "print(x1 is y1)\n",
    "print(x2 is not y2)\n",
    "print(x3 is y3)\n",
    "print(x1 is not y3)"
   ]
  },
  {
   "cell_type": "code",
   "execution_count": 59,
   "id": "f51d6cab",
   "metadata": {},
   "outputs": [
    {
     "name": "stdout",
     "output_type": "stream",
     "text": [
      "3\n",
      "[13, 1, 6]\n",
      "[13, 1]\n"
     ]
    }
   ],
   "source": [
    "# 14 : negative  index  & slicing\n",
    "# list=[1,2,3,4] Negative indexing [1 , 2 , 3 ,4]\n",
    "#                                  -4  -3  -2  -1   starts with -1 from last element of list\n",
    "# indexing must be given from left to right either in negivtiveor positive indexing\n",
    "\n",
    "l=[2,6,3,1,0,13]\n",
    "print(l[-4])\n",
    "#slicing\n",
    "print(l[::-2])\n",
    "print(l[:-4:-2])"
   ]
  },
  {
   "cell_type": "code",
   "execution_count": 63,
   "id": "ec4da2eb",
   "metadata": {},
   "outputs": [
    {
     "name": "stdout",
     "output_type": "stream",
     "text": [
      "tsnntj oaens eahfseA\n",
      "____________\n",
      "ot emoc\n"
     ]
    }
   ],
   "source": [
    "# 15 : \n",
    "\n",
    "\n",
    "print('A seies of characters designated as one object known as string'[::-1][4::3])\n",
    "# First [::-1] - gives the reverse string \n",
    "# Second [4::3] gives charcaters between 4 is initial index value , 3 is indexjump value\n",
    "print('____________')\n",
    "print('Welcome to the python training program'[3:10][::-1])\n",
    "# First [3:10] gives charcaters between and including index values 3 to 10 \n",
    "# Second [::-1] - gives the reverse string "
   ]
  },
  {
   "cell_type": "code",
   "execution_count": 67,
   "id": "62bc851c",
   "metadata": {},
   "outputs": [
    {
     "name": "stdout",
     "output_type": "stream",
     "text": [
      "WAS IT A CAR OR A CAT I SAW\n"
     ]
    }
   ],
   "source": [
    "# 16 :\n",
    "\n",
    "p_phrase=\"was it a car or a cat I saw\"\n",
    "print(p_phrase.upper())\n"
   ]
  },
  {
   "cell_type": "code",
   "execution_count": 86,
   "id": "11a7416b",
   "metadata": {},
   "outputs": [
    {
     "name": "stdout",
     "output_type": "stream",
     "text": [
      "3\n",
      "ZZZOOOOOO"
     ]
    }
   ],
   "source": [
    "# 17 :\n",
    "a='ZOO'\n",
    "i=0\n",
    "Z=a.count('Z')\n",
    "O=a.count('O')\n",
    "x=int(input())\n",
    "y=x*2\n",
    "for i in range(x):\n",
    "    i=i+1\n",
    "    print('Z',end='')\n",
    "for i in range(y):\n",
    "    i=i+1\n",
    "    print('O',end='')"
   ]
  },
  {
   "cell_type": "code",
   "execution_count": null,
   "id": "851a4b93",
   "metadata": {},
   "outputs": [],
   "source": []
  }
 ],
 "metadata": {
  "kernelspec": {
   "display_name": "Python 3 (ipykernel)",
   "language": "python",
   "name": "python3"
  },
  "language_info": {
   "codemirror_mode": {
    "name": "ipython",
    "version": 3
   },
   "file_extension": ".py",
   "mimetype": "text/x-python",
   "name": "python",
   "nbconvert_exporter": "python",
   "pygments_lexer": "ipython3",
   "version": "3.9.12"
  }
 },
 "nbformat": 4,
 "nbformat_minor": 5
}
