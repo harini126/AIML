{
 "cells": [
  {
   "cell_type": "code",
   "execution_count": null,
   "id": "cd457d35",
   "metadata": {},
   "outputs": [],
   "source": [
    "#Task Day 3\n",
    "#to check if word starts with particular alphabet in file\n",
    "a=open(\"files.txt\",\"x\")"
   ]
  },
  {
   "cell_type": "code",
   "execution_count": 41,
   "id": "c9500ac3",
   "metadata": {},
   "outputs": [
    {
     "name": "stdout",
     "output_type": "stream",
     "text": [
      "Apple\n",
      "Banana\n",
      "Avacado\n",
      "Almond\n",
      "Grapes\n",
      "Mango\n"
     ]
    }
   ],
   "source": [
    "a=open(\"files.txt\",\"w\")\n",
    "a.write(\"Apple\\nBanana\\nAvacado\\nAlmond\\nGrapes\\nMango\\nOrange\")\n",
    "a.close()\n",
    "a=open(\"files.txt\",\"r\")\n",
    "print(a.read())\n",
    "a.close()"
   ]
  },
  {
   "cell_type": "code",
   "execution_count": 52,
   "id": "7275d054",
   "metadata": {},
   "outputs": [
    {
     "name": "stdout",
     "output_type": "stream",
     "text": [
      "enter : A\n",
      "Apple - True\n",
      "Banana - False\n",
      "Avacado - True\n",
      "Almond - True\n",
      "Grapes - False\n",
      "Mango - False\n",
      "\n",
      "Words starts with  A\n",
      "Apple\n",
      "Avacado\n",
      "Almond\n"
     ]
    }
   ],
   "source": [
    "letter=input(\"enter : \")\n",
    "with open(\"files.txt\",'r') as x:\n",
    "    for i in x:\n",
    "        for y in i.split():\n",
    "            print(y,'-',y.startswith(letter,0))\n",
    "with open(\"files.txt\",'r') as x:      \n",
    "    print(\"\\nWords starts with \",letter)\n",
    "    for i in x:\n",
    "        for y in i.split():\n",
    "            \n",
    "            if y.startswith(letter,0):\n",
    "                print(y)\n",
    "            "
   ]
  },
  {
   "cell_type": "code",
   "execution_count": null,
   "id": "11608724",
   "metadata": {},
   "outputs": [],
   "source": []
  }
 ],
 "metadata": {
  "kernelspec": {
   "display_name": "Python 3 (ipykernel)",
   "language": "python",
   "name": "python3"
  },
  "language_info": {
   "codemirror_mode": {
    "name": "ipython",
    "version": 3
   },
   "file_extension": ".py",
   "mimetype": "text/x-python",
   "name": "python",
   "nbconvert_exporter": "python",
   "pygments_lexer": "ipython3",
   "version": "3.9.12"
  }
 },
 "nbformat": 4,
 "nbformat_minor": 5
}
