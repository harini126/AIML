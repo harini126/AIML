{
 "cells": [
  {
   "cell_type": "code",
   "execution_count": 4,
   "id": "97029668",
   "metadata": {
    "scrolled": true
   },
   "outputs": [
    {
     "name": "stdout",
     "output_type": "stream",
     "text": [
      "add : 10\n",
      "aub : 5\n"
     ]
    }
   ],
   "source": [
    "#class & object\n",
    "class CO:\n",
    "    def subn(self,a,b):\n",
    "        return a-b\n",
    "    def addn(self,a,b):\n",
    "        return a+b\n",
    "obj=CO()\n",
    "print(\"add :\",obj.addn(5,5))\n",
    "print(\"aub :\",obj.subn(10,5))"
   ]
  },
  {
   "cell_type": "code",
   "execution_count": 15,
   "id": "0c9630ed",
   "metadata": {},
   "outputs": [
    {
     "name": "stdout",
     "output_type": "stream",
     "text": [
      "demonstrate class creation\n",
      "method invokation\n",
      "return string to obj\n"
     ]
    }
   ],
   "source": [
    "class c1:\n",
    "    var=\"demonstrate class creation\"\n",
    "    def cm(self):\n",
    "        return\"method invokation\"\n",
    "    def __str__(self):\n",
    "        return \"return string to obj\"\n",
    "obj=c1()\n",
    "print(obj.var)\n",
    "print(obj.cm())\n",
    "print(obj)"
   ]
  },
  {
   "cell_type": "code",
   "execution_count": 18,
   "id": "baa50158",
   "metadata": {},
   "outputs": [
    {
     "name": "stdout",
     "output_type": "stream",
     "text": [
      "\n",
      "add : 10\n",
      "sub : 5\n",
      "mul : 50\n",
      "div : 2.0\n",
      "mod : 0\n",
      "floor : 2\n",
      "pow : 32\n"
     ]
    }
   ],
   "source": [
    "class arithmetic:\n",
    "    def add(self,a,b):\n",
    "        return a+b\n",
    "    def sub(self,a,b):\n",
    "        return a-b\n",
    "    def mul(self,a,b):\n",
    "        return a*b\n",
    "    def div(self,a,b):\n",
    "        return a/b\n",
    "    def mod(self,a,b):\n",
    "        return a%b\n",
    "    def floor(self,a,b):\n",
    "        return a//b\n",
    "    def pow(self,a,b):\n",
    "        return a**b\n",
    "obj=arithmetic()\n",
    "print()\n",
    "print(\"add :\",obj.add(5,5))\n",
    "print(\"sub :\",obj.sub(10,5))\n",
    "print(\"mul :\",obj.mul(10,5))\n",
    "print(\"div :\",obj.div(10,5))\n",
    "print(\"mod :\",obj.mod(10,5))\n",
    "print(\"floor :\",obj.floor(10,5))\n",
    "print(\"pow :\",obj.pow(2,5))"
   ]
  },
  {
   "cell_type": "code",
   "execution_count": 20,
   "id": "8ea4b6a2",
   "metadata": {},
   "outputs": [
    {
     "name": "stdout",
     "output_type": "stream",
     "text": [
      "apple color is Red\n"
     ]
    }
   ],
   "source": [
    "#inheritance\n",
    "class fruits:\n",
    "    def fruit_color(self):\n",
    "        return \"color is \"\n",
    "class apple(fruits):\n",
    "    def apple_color(self):\n",
    "        return self.fruit_color()+\"Red\"\n",
    "    def __str__(self):\n",
    "        return \"apple\"\n",
    "    \n",
    "appobj=apple()\n",
    "print(appobj,appobj.apple_color())"
   ]
  },
  {
   "cell_type": "code",
   "execution_count": 22,
   "id": "2fa2733e",
   "metadata": {},
   "outputs": [
    {
     "name": "stdout",
     "output_type": "stream",
     "text": [
      "apple color is Red\n",
      "Grapes color is Green\n"
     ]
    }
   ],
   "source": [
    "#inheritance\n",
    "class fruits:\n",
    "    def fruit_color(self):\n",
    "        return \"color is \"\n",
    "class apple(fruits):\n",
    "    def apple_color(self):\n",
    "        return self.fruit_color()+\"Red\"\n",
    "    def __str__(self):\n",
    "        return \"apple\"\n",
    "    \n",
    "appobj=apple()\n",
    "print(appobj,appobj.apple_color())\n",
    "\n",
    "class grapes(fruits):\n",
    "    def grape_color(self):\n",
    "        return self.fruit_color()+\"Green\"\n",
    "    def __str__(self):\n",
    "        return \"Grapes\"\n",
    "    \n",
    "graobj=grapes()\n",
    "print(graobj,graobj.grape_color())\n"
   ]
  },
  {
   "cell_type": "code",
   "execution_count": 26,
   "id": "ae762c41",
   "metadata": {},
   "outputs": [
    {
     "name": "stdout",
     "output_type": "stream",
     "text": [
      "apple apple tastes sweet\n",
      "apple color is Red\n"
     ]
    }
   ],
   "source": [
    "#multiheritance\n",
    "class fruits:\n",
    "    def fruit_color(self):\n",
    "        return \"color is \"\n",
    "class apple(fruits):\n",
    "    def apple_color(self):\n",
    "        return self.fruit_color()+\"Red\"\n",
    "class appletaste(apple):\n",
    "    def __str__(self):\n",
    "        return \"apple\"\n",
    "    def color(self):\n",
    "        return \"apple tastes sweet\"\n",
    "obj=appletaste()\n",
    "print(obj,obj.color())\n",
    "print(obj,obj.apple_color())"
   ]
  },
  {
   "cell_type": "code",
   "execution_count": 30,
   "id": "26f507c9",
   "metadata": {},
   "outputs": [
    {
     "name": "stdout",
     "output_type": "stream",
     "text": [
      "exception occurred name 'x' is not defined\n",
      "executed\n"
     ]
    },
    {
     "ename": "ZeroDivisionError",
     "evalue": "division by zero",
     "output_type": "error",
     "traceback": [
      "\u001b[1;31m---------------------------------------------------------------------------\u001b[0m",
      "\u001b[1;31mZeroDivisionError\u001b[0m                         Traceback (most recent call last)",
      "Input \u001b[1;32mIn [30]\u001b[0m, in \u001b[0;36m<cell line: 11>\u001b[1;34m()\u001b[0m\n\u001b[0;32m      9\u001b[0m a\u001b[38;5;241m=\u001b[39m\u001b[38;5;241m5\u001b[39m\n\u001b[0;32m     10\u001b[0m b\u001b[38;5;241m=\u001b[39m\u001b[38;5;241m0\u001b[39m\n\u001b[1;32m---> 11\u001b[0m c\u001b[38;5;241m=\u001b[39m\u001b[43ma\u001b[49m\u001b[38;5;241;43m/\u001b[39;49m\u001b[43mb\u001b[49m\n\u001b[0;32m     12\u001b[0m \u001b[38;5;28;01mtry\u001b[39;00m:\n\u001b[0;32m     13\u001b[0m     \u001b[38;5;28mprint\u001b[39m(c)\n",
      "\u001b[1;31mZeroDivisionError\u001b[0m: division by zero"
     ]
    }
   ],
   "source": [
    "#exceptions\n",
    "#NameError\n",
    "try:\n",
    "    print(x)\n",
    "except NameError as ne:\n",
    "    print(\"exception occurred\",ne)\n",
    "print(\"executed\")\n",
    "\n"
   ]
  },
  {
   "cell_type": "code",
   "execution_count": 34,
   "id": "754f6a37",
   "metadata": {},
   "outputs": [
    {
     "ename": "ZeroDivisionError",
     "evalue": "division by zero",
     "output_type": "error",
     "traceback": [
      "\u001b[1;31m---------------------------------------------------------------------------\u001b[0m",
      "\u001b[1;31mZeroDivisionError\u001b[0m                         Traceback (most recent call last)",
      "Input \u001b[1;32mIn [34]\u001b[0m, in \u001b[0;36m<cell line: 3>\u001b[1;34m()\u001b[0m\n\u001b[0;32m      1\u001b[0m a\u001b[38;5;241m=\u001b[39m\u001b[38;5;241m5\u001b[39m\n\u001b[0;32m      2\u001b[0m b\u001b[38;5;241m=\u001b[39m\u001b[38;5;241m0\u001b[39m\n\u001b[1;32m----> 3\u001b[0m c\u001b[38;5;241m=\u001b[39m\u001b[43ma\u001b[49m\u001b[38;5;241;43m/\u001b[39;49m\u001b[43mb\u001b[49m\n\u001b[0;32m      4\u001b[0m \u001b[38;5;28;01mtry\u001b[39;00m:\n\u001b[0;32m      5\u001b[0m     \u001b[38;5;28mprint\u001b[39m(c)\n",
      "\u001b[1;31mZeroDivisionError\u001b[0m: division by zero"
     ]
    }
   ],
   "source": [
    "a=5\n",
    "b=0\n",
    "c=a/b\n",
    "try:\n",
    "    print(c)\n",
    "except ZeroDivisionError as ze:\n",
    "    print(\"exception occurred\",ze)\n",
    "print(\"executed\")"
   ]
  },
  {
   "cell_type": "code",
   "execution_count": 33,
   "id": "fed4b1f1",
   "metadata": {},
   "outputs": [
    {
     "name": "stdout",
     "output_type": "stream",
     "text": [
      "exception occurred invalid literal for int() with base 10: '44 hh'\n",
      "executed\n"
     ]
    }
   ],
   "source": [
    "a= '44 hh'\n",
    "try:\n",
    "    print(int(a))\n",
    "except ValueError as ne:\n",
    "    print(\"exception occurred\",ne)\n",
    "print(\"executed\")"
   ]
  },
  {
   "cell_type": "code",
   "execution_count": 44,
   "id": "9ba3f4af",
   "metadata": {},
   "outputs": [
    {
     "name": "stdout",
     "output_type": "stream",
     "text": [
      "Enter2003\n"
     ]
    }
   ],
   "source": [
    "\n",
    "class INVALIDSTUDENTID(Exception):\n",
    "   \n",
    "    pass\n",
    "stid=input(\"Enter\")\n",
    "try:\n",
    "    if stid[:4]!='2003':\n",
    "        raise INVALIDSTUDENTID\n",
    "except INVALIDSTUDENTID \n",
    "    print('Error')\n"
   ]
  },
  {
   "cell_type": "code",
   "execution_count": 45,
   "id": "c7eb2d5b",
   "metadata": {},
   "outputs": [
    {
     "name": "stdout",
     "output_type": "stream",
     "text": [
      "Enter2223\n",
      "Error raise\n",
      "details verified\n"
     ]
    }
   ],
   "source": [
    "class INVALIDSTUDENTID(Exception):\n",
    "    def __str__(self):\n",
    "        return \"Error raise\"\n",
    "    pass\n",
    "stid=input(\"Enter\")\n",
    "try:\n",
    "    if stid[:4]!='2003':\n",
    "        raise INVALIDSTUDENTID\n",
    "except INVALIDSTUDENTID as invalid:\n",
    "    print(invalid)\n",
    "print(\"details verified\")\n"
   ]
  },
  {
   "cell_type": "code",
   "execution_count": 50,
   "id": "76904a62",
   "metadata": {},
   "outputs": [
    {
     "name": "stdout",
     "output_type": "stream",
     "text": [
      "Enter  age:19\n",
      "Vote accepted\n"
     ]
    }
   ],
   "source": [
    "class INVALIDSTUDENTID(Exception):\n",
    "    pass\n",
    "a=int(input(\"Enter  age:\"))\n",
    "try:\n",
    "    if a<18:\n",
    "        raise INVALIDSTUDENTID\n",
    "    else:\n",
    "        print(\"Vote accepted\")\n",
    "except INVALIDSTUDENTID: \n",
    "    print(\"under age\")"
   ]
  },
  {
   "cell_type": "code",
   "execution_count": 51,
   "id": "afc99901",
   "metadata": {},
   "outputs": [],
   "source": [
    "#files\n",
    "f=open(\"file.txt\",\"x\")"
   ]
  },
  {
   "cell_type": "code",
   "execution_count": 53,
   "id": "621d394b",
   "metadata": {},
   "outputs": [],
   "source": [
    "f=open(\"file.txt\",\"w\")\n",
    "f.write(\"Welcome\")\n",
    "f.close()"
   ]
  },
  {
   "cell_type": "code",
   "execution_count": 1,
   "id": "a246fc2a",
   "metadata": {},
   "outputs": [
    {
     "name": "stdout",
     "output_type": "stream",
     "text": [
      "Welcome\n"
     ]
    }
   ],
   "source": [
    "f=open(\"file.txt\",\"r\")\n",
    "print(f.read())\n",
    "f.close()"
   ]
  },
  {
   "cell_type": "code",
   "execution_count": 2,
   "id": "7aa91852",
   "metadata": {},
   "outputs": [],
   "source": [
    "import os\n",
    "os.remove(\"file.txt\")"
   ]
  },
  {
   "cell_type": "code",
   "execution_count": 4,
   "id": "87122feb",
   "metadata": {},
   "outputs": [
    {
     "name": "stdout",
     "output_type": "stream",
     "text": [
      "Wel\n",
      "3\n",
      "2\n",
      "0\n",
      "Welcome\n",
      "\n",
      "[]\n"
     ]
    }
   ],
   "source": [
    "f=open(\"file.txt\",\"w\")\n",
    "f.write(\"Welcome\")\n",
    "f.close()\n",
    "f=open(\"file.txt\",\"r\")\n",
    "print(f.read(3))\n",
    "print(f.tell())\n",
    "print(f.seek(2))\n",
    "print(f.seek(0))\n",
    "print(f.readline())\n",
    "print(f.readline())\n",
    "print(f.readlines())\n",
    "f.close()"
   ]
  },
  {
   "cell_type": "code",
   "execution_count": 5,
   "id": "1be3a727",
   "metadata": {},
   "outputs": [],
   "source": [
    "#copy write\n",
    "f1=open(\"file1.txt\",\"x\")\n",
    "f2=open(\"file2.txt\",\"x\")\n"
   ]
  },
  {
   "cell_type": "code",
   "execution_count": 7,
   "id": "70dae630",
   "metadata": {},
   "outputs": [],
   "source": [
    "f1=open(\"file1.txt\",\"w\")\n",
    "f1.write(\"Copy\")\n",
    "f1.close()"
   ]
  },
  {
   "cell_type": "code",
   "execution_count": 8,
   "id": "d1f005b1",
   "metadata": {},
   "outputs": [],
   "source": [
    "f1=open(\"file1.txt\",\"r\")\n",
    "t=f1.read()\n",
    "f1.close()\n",
    "f2=open(\"file2.txt\",\"w\")\n",
    "f2.write(t)\n",
    "f2.close()"
   ]
  },
  {
   "cell_type": "code",
   "execution_count": 12,
   "id": "f0567ccd",
   "metadata": {},
   "outputs": [
    {
     "name": "stdout",
     "output_type": "stream",
     "text": [
      "Copy\n",
      "Copy\n"
     ]
    }
   ],
   "source": [
    "f1=open(\"file1.txt\",\"r\")\n",
    "f2=open(\"file2.txt\",\"r\")\n",
    "print(f1.read())\n",
    "print(f2.read())\n",
    "f1.close()\n",
    "f2.close()"
   ]
  },
  {
   "cell_type": "code",
   "execution_count": 16,
   "id": "e0a1bd91",
   "metadata": {},
   "outputs": [],
   "source": [
    "f1=open(\"file1.txt\",\"a\")\n",
    "f1.write(\" paste\")\n",
    "f1.close()\n"
   ]
  },
  {
   "cell_type": "code",
   "execution_count": 17,
   "id": "08fb5b15",
   "metadata": {},
   "outputs": [
    {
     "name": "stdout",
     "output_type": "stream",
     "text": [
      "Copypaste paste\n"
     ]
    }
   ],
   "source": [
    "f1=open(\"file1.txt\",\"r\")\n",
    "print(f1.read())\n",
    "f1.close()"
   ]
  },
  {
   "cell_type": "code",
   "execution_count": 21,
   "id": "34a29e9a",
   "metadata": {},
   "outputs": [
    {
     "name": "stdout",
     "output_type": "stream",
     "text": [
      "['a', 'b', 'c', 'd', 'e']\n"
     ]
    }
   ],
   "source": [
    "#pickle\n",
    "import pickle\n",
    "l=['a','b','c','d','e']\n",
    "f3=open(\"f1.txt\",\"wb\")\n",
    "pickle.dump(l,f3)\n",
    "f3.close()\n",
    "#unpickle\n",
    "import pickle\n",
    "pickof=open(\"f1.txt\",\"rb\")\n",
    "e=pickle.load(pickof)\n",
    "print(e)\n",
    "pickof.close()"
   ]
  },
  {
   "cell_type": "code",
   "execution_count": 23,
   "id": "bf4d30aa",
   "metadata": {},
   "outputs": [
    {
     "name": "stdout",
     "output_type": "stream",
     "text": [
      "['a', 'b', 'c', 'd', 'e']\n"
     ]
    }
   ],
   "source": [
    " #pickle\n",
    "import pickle\n",
    "l=['a','b','c','d','e']\n",
    "with open(\"f2.txt\",\"wb\") as s:\n",
    "    pickle.dump(l,s)\n",
    "\n",
    "#unpickle\n",
    "import pickle\n",
    "pickof=open(\"f2.txt\",\"rb\")\n",
    "e=pickle.load(pickof)\n",
    "print(e)\n",
    "pickof.close()"
   ]
  },
  {
   "cell_type": "code",
   "execution_count": 24,
   "id": "fd87c538",
   "metadata": {},
   "outputs": [
    {
     "name": "stdout",
     "output_type": "stream",
     "text": [
      "Matching\n"
     ]
    }
   ],
   "source": [
    "#regular expressions\n",
    "import re\n",
    "pattern=r\"KOOKIE\"\n",
    "sequence=(\"KOOKIE\")\n",
    "if re.match(pattern,sequence):\n",
    "    print(\"Matching\")\n",
    "else:\n",
    "    print(\"NOT match\")"
   ]
  },
  {
   "cell_type": "code",
   "execution_count": 26,
   "id": "2c7296ac",
   "metadata": {},
   "outputs": [
    {
     "name": "stdout",
     "output_type": "stream",
     "text": [
      "Enter8341368919\n",
      "8341368919\n"
     ]
    }
   ],
   "source": [
    "import re\n",
    "ph=input(\"Enter\")\n",
    "print(re.search(r'\\d{10}',ph).group())"
   ]
  },
  {
   "cell_type": "code",
   "execution_count": 33,
   "id": "78f4d574",
   "metadata": {},
   "outputs": [
    {
     "name": "stdout",
     "output_type": "stream",
     "text": [
      "entera@g.ccc\n",
      "a@g.ccc\n"
     ]
    }
   ],
   "source": [
    "mail=input(\"enter\")\n",
    "str1=r'[A-Za-z0-9._-]+@[A-za-z0-9.-]+[A-Z|a-z]{2,}'\n",
    "print(re.search(str1,mail).group())"
   ]
  },
  {
   "cell_type": "code",
   "execution_count": 43,
   "id": "1f82cce6",
   "metadata": {},
   "outputs": [
    {
     "name": "stdout",
     "output_type": "stream",
     "text": [
      "enteraaa@gmail.com\n",
      "aaa@gmail\n"
     ]
    }
   ],
   "source": [
    "mail=input(\"enter\")\n",
    "str1=r'[a-z0-9._-]+@[A-za-z0-9.-]+[A-Z|a-z]{4,}'\n",
    "print(re.search(str1,mail).group())"
   ]
  },
  {
   "cell_type": "code",
   "execution_count": null,
   "id": "fc53d3cb",
   "metadata": {},
   "outputs": [],
   "source": []
  },
  {
   "cell_type": "code",
   "execution_count": null,
   "id": "62ce9c53",
   "metadata": {},
   "outputs": [],
   "source": []
  }
 ],
 "metadata": {
  "kernelspec": {
   "display_name": "Python 3 (ipykernel)",
   "language": "python",
   "name": "python3"
  },
  "language_info": {
   "codemirror_mode": {
    "name": "ipython",
    "version": 3
   },
   "file_extension": ".py",
   "mimetype": "text/x-python",
   "name": "python",
   "nbconvert_exporter": "python",
   "pygments_lexer": "ipython3",
   "version": "3.9.12"
  }
 },
 "nbformat": 4,
 "nbformat_minor": 5
}
